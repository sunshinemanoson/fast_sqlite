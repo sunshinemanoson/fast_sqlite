{
 "cells": [
  {
   "cell_type": "code",
   "execution_count": 1,
   "metadata": {},
   "outputs": [],
   "source": [
    "from fastapi import FastAPI\n",
    "from pydantic import BaseModel\n",
    "import uvicorn\n",
    "import nest_asyncio\n",
    "import sqlite3"
   ]
  },
  {
   "cell_type": "code",
   "execution_count": 2,
   "metadata": {},
   "outputs": [
    {
     "name": "stdout",
     "output_type": "stream",
     "text": [
      "create successfully\n"
     ]
    }
   ],
   "source": [
    "\n",
    "app = FastAPI()\n",
    "Product = []\n",
    "\n",
    "class Item(BaseModel):\n",
    "    Pname: str\n",
    "    price: float;\n",
    "    qty: int\n",
    "\n",
    "\n",
    "def init():\n",
    "    db = sqlite3.connect('product.db')\n",
    "    db.execute('''\n",
    "    CREATE TABLE IF NOT EXISTS PRODUCT\n",
    "    (ID INTEGER PRIMARY KEY AUTOINCREMENT,\n",
    "    NAME TEXT UNIQUE NOT NULL,\n",
    "    PRICE REAL NOT NULL,\n",
    "    QTY INT NOT NULL);''')\n",
    "    print(\"create successfully\")\n",
    "    db.close()\n",
    "\n",
    "init()\n",
    "@app.get('/')\n",
    "async def home():\n",
    "    return {\"message\":\"Hello world\"}\n",
    "\n",
    "\n",
    "@app.post('/Product')\n",
    "async def addproduct(item: Item):\n",
    "    db = sqlite3.connect('product.db')\n",
    "    data = (item.Pname,item.price,item.qty)\n",
    "    cur = db.cursor()\n",
    "    sql = \"\"\"INSERT OR IGNORE INTO PRODUCT(NAME, PRICE, QTY) VALUES(?,?,?)\"\"\"\n",
    "    cur.execute(sql, data)\n",
    "    db.commit()\n",
    "    return {\"message\":\"insert completed \"+str(cur.lastrowid)}\n",
    "\n",
    "@app.get('/Product')\n",
    "async def gettallproduct():\n",
    "    db = sqlite3.connect('product.db')\n",
    "    sql = \"select * from PRODUCT;\"\n",
    "    cur = db.cursor()\n",
    "    cur.execute(sql)\n",
    "    rows = cur.fetchall()\n",
    "    return {\"message\" : \"get all data succesed\", \"Data\":rows}\n",
    "\n",
    "\n",
    "@app.put('/Product/{ID}')\n",
    "async def updateproduct(item:Item , ID:int):\n",
    "    db = sqlite3.connect('product.db')\n",
    "    data = (item.Pname,item.price,item.qty)\n",
    "    cur = db.cursor()\n",
    "    sql = \"\"\"UPDATE PRODUCT\n",
    "        SET NAME = {item.Pname}, PRICE = {item.price}, QTY = {item.qty}, WHERE ID = `{ID}`;\"\"\"\n",
    "    cur.execute(sql, data)\n",
    "    db.commit()\n",
    "    return {\"message\",\"UPDATE completed \"+str(cur.lastrowid)}\n",
    "\n",
    "@app.delete('/Product/{ID}')\n",
    "async def deleteproduct(ID:int):\n",
    "    db = sqlite3.connect('product.db')\n",
    "    cur = db.cursor()\n",
    "    sql = \"\"\"DELETE FROM PRODUCT WHERE ID=(%s));\"\"\"%ID\n",
    "    cur.execute(sql)\n",
    "    db.commit()\n",
    "    return {\"message\",\"DELETE completed \"+str(cur.lastrowid)}\n",
    "\n",
    "@app.get('/test/{id}')\n",
    "async def test_opt(id:int, otp: str='EQUAL'):\n",
    "    option = []\n",
    "    if otp=='MORE':\n",
    "        option.append('set to more')\n",
    "    elif otp=='LESS':\n",
    "        option.append('set to less')\n",
    "    else:\n",
    "        option.append('set to equal')\n",
    "    return {\n",
    "        \"message\": \"test and point with get option\",\n",
    "        \"option\": option\n",
    "    }\n",
    "\n",
    "\n"
   ]
  },
  {
   "cell_type": "code",
   "execution_count": 3,
   "metadata": {},
   "outputs": [
    {
     "name": "stderr",
     "output_type": "stream",
     "text": [
      "INFO:     Started server process [64914]\n",
      "INFO:     Waiting for application startup.\n",
      "INFO:     Application startup complete.\n",
      "INFO:     Uvicorn running on http://127.0.0.1:8080 (Press CTRL+C to quit)\n"
     ]
    },
    {
     "name": "stdout",
     "output_type": "stream",
     "text": [
      "create successfully\n",
      "INFO:     127.0.0.1:63034 - \"GET /test/1?otp=LESS HTTP/1.1\" 200 OK\n",
      "INFO:     127.0.0.1:63037 - \"GET /Product HTTP/1.1\" 200 OK\n"
     ]
    }
   ],
   "source": [
    "init()\n",
    "nest_asyncio.apply()\n",
    "uvicorn.run(app,port=8080)"
   ]
  },
  {
   "cell_type": "code",
   "execution_count": null,
   "metadata": {},
   "outputs": [],
   "source": []
  }
 ],
 "metadata": {
  "kernelspec": {
   "display_name": "Python 3.9.12 ('base')",
   "language": "python",
   "name": "python3"
  },
  "language_info": {
   "codemirror_mode": {
    "name": "ipython",
    "version": 3
   },
   "file_extension": ".py",
   "mimetype": "text/x-python",
   "name": "python",
   "nbconvert_exporter": "python",
   "pygments_lexer": "ipython3",
   "version": "3.9.12"
  },
  "orig_nbformat": 4,
  "vscode": {
   "interpreter": {
    "hash": "14386cc2894ee7eef39fb8bc5ca5858b6a0eead435af0619036937f01c292a83"
   }
  }
 },
 "nbformat": 4,
 "nbformat_minor": 2
}
