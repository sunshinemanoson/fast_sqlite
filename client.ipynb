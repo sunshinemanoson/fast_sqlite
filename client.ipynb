{
 "cells": [
  {
   "cell_type": "code",
   "execution_count": 1,
   "metadata": {},
   "outputs": [],
   "source": [
    "\n",
    "import requests\n",
    "def get_product():\n",
    "    response = requests.get('http://localhost:8080/Product')\n",
    "    print(response.json())\n",
    "    \n",
    "def get_option(id, option=\"EQUAL\"):\n",
    "    url = 'http://localhost:8080/test/%d?otp=%s'%(id, option)\n",
    "    response = requests.get(url)\n",
    "    print(\"Curent Url: \",url)\n",
    "    print(response.json())\n",
    "\n",
    "def add_product(name, price , qty):\n",
    "    url = \"http://localhost:8080/Product\"\n",
    "    item = {\"Pname\": name, \"price\":price, \"qty\":qty}\n",
    "    response = requests.post(url,json = item)\n",
    "    print(response.json())\n",
    "\n",
    "def update_product(id, name, price , qty):\n",
    "    url = \"http://localhost:8080/Product\"\n",
    "    item = {\"Pname\": name, \"price\":price, \"qty\":qty}\n",
    "    response = requests.post(url,json = item)\n",
    "    print(response.json())\n",
    "\n",
    "def del_product(ID):\n",
    "    url = 'http://localhost:8080/Product/%s'%(ID)\n",
    "    response = requests.get(url)\n",
    "   "
   ]
  },
  {
   "cell_type": "code",
   "execution_count": 2,
   "metadata": {},
   "outputs": [
    {
     "name": "stdout",
     "output_type": "stream",
     "text": [
      "Curent Url:  http://localhost:8080/test/1?otp=LESS\n",
      "{'message': 'test and point with get option', 'option': ['set to less']}\n"
     ]
    }
   ],
   "source": [
    "# get_product()\n",
    "# get_option()\n",
    "get_option(id=1,option='LESS')\n",
    "# get_option(id=5,option='MORE')\n",
    "# add_product(\"yum yum\", 6.5, 12)\n",
    "# get_product()"
   ]
  },
  {
   "cell_type": "code",
   "execution_count": 3,
   "metadata": {},
   "outputs": [],
   "source": [
    "import tkinter as tk\n",
    "from tkinter import *\n",
    "from tkinter import messagebox\n",
    "from tkinter.ttk import Label\n",
    "from tkinter.messagebox import showinfo\n",
    "from tkinter.simpledialog import askstring\n",
    "from warnings import showwarning\n",
    "\n"
   ]
  },
  {
   "cell_type": "code",
   "execution_count": 4,
   "metadata": {},
   "outputs": [
    {
     "name": "stdout",
     "output_type": "stream",
     "text": [
      "{'message': 'get all data succesed', 'Data': [[97, 'mama', 7.0, 8]]}\n"
     ]
    }
   ],
   "source": [
    "field = ('NameProduct','Price','Qty')\n",
    "def fetch(entries):\n",
    "    fields = ('NameProduct : ','\\nPrice : ','\\nQty : ')\n",
    "    name  = entries[0].get()\n",
    "    price  = entries[1].get()\n",
    "    qty  = entries[2].get()\n",
    "    \n",
    "    print(fields[0], str(name),fields[1],float(price),fields[2],int(qty))\n",
    "\n",
    "    getIn(name,price,qty)\n",
    "\n",
    "def getIn(name,price,qty):\n",
    "    add_product(name,price,qty)\n",
    "\n",
    "def Showpro():\n",
    "    \n",
    "    product = get_product()\n",
    "    tk.messagebox.showinfo(\"Show Product All\", product)\n",
    "\n",
    "def Del():\n",
    "    # win = tk.Tk()\n",
    "    root.geometry(\"450x150\")\n",
    "    ids = askstring('Deleted', 'Input Name to Deleted?')\n",
    "    \n",
    "    showinfo('Are you sure!','Deleteed : {0}'.format(ids))\n",
    "    ID = ids\n",
    "    del_product(ID)\n",
    "    \n",
    "def updateprduct():\n",
    "    root = tk.Tk()\n",
    "    field = ('id','NameProduct','Price','Qty')\n",
    "    root.title('Product Update')\n",
    "    root.geometry(\"450x150\")\n",
    "    ents = makeform(root, field)\n",
    "    root.bind('<Return>', (lambda event, e=ents: fetch(e)))   \n",
    "    b1 = tk.Button(root, text='Add',\n",
    "                  command=(lambda e=ents: fetch(e)))\n",
    "    b1.pack(side=tk.LEFT, padx=5, pady=5)\n",
    "    b2 = tk.Button(root, text='Update Product', )\n",
    "    b2.pack(side=tk.LEFT, padx=5, pady=5)\n",
    "    bQ = tk.Button(root, text='Quit', command=root.destroy)\n",
    "    bQ.pack(side=tk.LEFT, padx=5, pady=5)\n",
    "    name = 0\n",
    "    price = 0\n",
    "    qty = 0\n",
    "    update_product(ID, name, price , qty)\n",
    "\n",
    "def makeform(root, fields):\n",
    "    entries = []\n",
    "    for field in fields:\n",
    "        row = tk.Frame(root)\n",
    "        lab = tk.Label(row, width=15, text=field, anchor='w')\n",
    "        ent = tk.Entry(row)\n",
    "        row.pack(side=tk.TOP, fill=tk.X, padx=5, pady=5)\n",
    "        lab.pack(side=tk.LEFT)\n",
    "        ent.pack(side=tk.RIGHT, expand=tk.YES, fill=tk.X)\n",
    "        entries.append((ent))\n",
    "    return entries\n",
    "\n",
    "if __name__ == '__main__':\n",
    "    root = tk.Tk()\n",
    "    root.title('Product Option')\n",
    "    root.geometry(\"450x150\")\n",
    "    ents = makeform(root, field)\n",
    "    root.bind('<Return>', (lambda event, e=ents: fetch(e)))   \n",
    "    b1 = tk.Button(root, text='Add',\n",
    "                  command=(lambda e=ents: fetch(e)))\n",
    "    b1.pack(side=tk.LEFT, padx=5, pady=5)\n",
    "    b2 = tk.Button(root, text='Show Product', command=Showpro)\n",
    "    b2.pack(side=tk.LEFT, padx=5, pady=5)\n",
    "    b3 = tk.Button(root, text='Update', command=updateprduct)\n",
    "    b3.pack(side=tk.LEFT, padx=5, pady=5)\n",
    "    b4 = tk.Button(root, text='Delete', command=Del)\n",
    "    b4.pack(side=tk.LEFT, padx=5, pady=5)\n",
    "    bQ = tk.Button(root, text='Quit', command=root.destroy)\n",
    "    bQ.pack(side=tk.LEFT, padx=5, pady=5)\n",
    "    root.mainloop()"
   ]
  },
  {
   "cell_type": "code",
   "execution_count": null,
   "metadata": {},
   "outputs": [],
   "source": []
  },
  {
   "cell_type": "code",
   "execution_count": null,
   "metadata": {},
   "outputs": [],
   "source": []
  }
 ],
 "metadata": {
  "kernelspec": {
   "display_name": "Python 3.9.12 ('base')",
   "language": "python",
   "name": "python3"
  },
  "language_info": {
   "codemirror_mode": {
    "name": "ipython",
    "version": 3
   },
   "file_extension": ".py",
   "mimetype": "text/x-python",
   "name": "python",
   "nbconvert_exporter": "python",
   "pygments_lexer": "ipython3",
   "version": "3.9.12"
  },
  "orig_nbformat": 4,
  "vscode": {
   "interpreter": {
    "hash": "14386cc2894ee7eef39fb8bc5ca5858b6a0eead435af0619036937f01c292a83"
   }
  }
 },
 "nbformat": 4,
 "nbformat_minor": 2
}
